{
 "cells": [
  {
   "cell_type": "code",
   "execution_count": 1,
   "metadata": {},
   "outputs": [],
   "source": [
    "import numpy as np\n",
    "import matplotlib.pyplot as plt"
   ]
  },
  {
   "cell_type": "code",
   "execution_count": 2,
   "metadata": {},
   "outputs": [],
   "source": [
    "base=np.load('fit_exercise.npy')"
   ]
  },
  {
   "cell_type": "code",
   "execution_count": 3,
   "metadata": {},
   "outputs": [
    {
     "data": {
      "text/plain": [
       "Text(0.5,1,'datos')"
      ]
     },
     "execution_count": 3,
     "metadata": {},
     "output_type": "execute_result"
    },
    {
     "data": {
      "image/png": "[encoded data removed]",
      "text/plain": [
       "<Figure size 432x288 with 1 Axes>"
      ]
     },
     "metadata": {
      "needs_background": "light"
     },
     "output_type": "display_data"
    }
   ],
   "source": [
    "plt.plot(base[0],base[1],'ro')\n",
    "plt.xlabel('x')\n",
    "plt.ylabel('y')\n",
    "plt.title('datos')\n"
   ]
  },
  {
   "cell_type": "markdown",
   "metadata": {},
   "source": [
    "## aproximacion lineal (Regresión lineal)"
   ]
  },
  {
   "cell_type": "code",
   "execution_count": 4,
   "metadata": {},
   "outputs": [
    {
     "data": {
      "text/plain": [
       "(-0.9821623517930426, 4.57785930375336)"
      ]
     },
     "execution_count": 4,
     "metadata": {},
     "output_type": "execute_result"
    }
   ],
   "source": [
    "var = np.vstack([base[0,:], np.ones(len(base[0,:]))]).T\n",
    "m, c = np.linalg.lstsq(var, base[1,:], rcond=None)[0]\n",
    "m, c"
   ]
  },
  {
   "cell_type": "code",
   "execution_count": 5,
   "metadata": {},
   "outputs": [
    {
     "data": {
      "text/plain": [
       "Text(0,0.5,'y')"
      ]
     },
     "execution_count": 5,
     "metadata": {},
     "output_type": "execute_result"
    },
    {
     "data": {
      "image/png": "[encoded data removed]",
      "text/plain": [
       "<Figure size 432x288 with 1 Axes>"
      ]
     },
     "metadata": {
      "needs_background": "light"
     },
     "output_type": "display_data"
    }
   ],
   "source": [
    "plt.plot(base[0,:], base[1,:], 'o', label='base', markersize=2)\n",
    "plt.plot(base[0,:], m*base[0,:] + c, label='Regresión lineal')\n",
    "plt.title('Regresión')\n",
    "plt.xlabel('x')\n",
    "plt.ylabel('y')"
   ]
  },
  {
   "cell_type": "markdown",
   "metadata": {},
   "source": [
    "## Maximum Likelihood Method"
   ]
  },
  {
   "cell_type": "markdown",
   "metadata": {},
   "source": [
    "Supongamos que se tienen n mediciones ($x_1, y_1\\pm \\sigma_1$; $x_2, y_2\\pm \\sigma_2$; $x_n, y_n\\pm \\sigma_n$) si se conoce la función de distribución entonces se conoce una relación funcional de $y=f(x,\\alpha, \\beta, \\gamma, ...)$ donde $\\alpha, \\beta, \\gamma, ...$ son parametros "
   ]
  },
  {
   "cell_type": "markdown",
   "metadata": {},
   "source": [
    "Likelihood Function es $$L=\\prod_{i=1}^{n} f(x_i,\\alpha, \\beta, ...)$$"
   ]
  },
  {
   "cell_type": "markdown",
   "metadata": {},
   "source": [
    "Usando un likelihood gausiano para una linea recta\n",
    "\n",
    "\n",
    "$$L=\\prod_{i=1}^{n} \\frac{1}{\\sigma_i\\sqrt{2\\pi}}exp({-\\frac{(y_i- \\lambda (x_i , \\theta ))^2}{2\\sigma_i^2}})$$\n",
    "$$L=\\prod_{i=1}^{n} \\frac{1}{\\sigma_i\\sqrt{2\\pi}}exp({-\\frac{(y_i-\\alpha-\\beta x_i)^2}{2\\sigma_i^2}})$$\n",
    "\n",
    "$$ ln ({L}(x_i,y_i|\\vec{\\theta}))= \\sum_{i}ln(\\frac{1}{\\sigma_i\\sqrt{2\\pi}}) -\\frac{(y_i-\\alpha-\\beta x_i)^2 }{2\\sigma_i^2}$$\n",
    "\n",
    "\n",
    "Para maximizar la función obtenemos \n",
    "\n",
    "$$\\frac{\\partial}{\\partial\\alpha}ln(L)=\\sum_{i}\\frac{y_i-\\alpha -\\beta x_1}{\\sigma_i^2}=0$$\n",
    "\n",
    "$$\\frac{\\partial}{\\partial\\beta}ln(L)=\\sum_{i}\\frac{(y_i-\\alpha -\\beta x_1)x_i}{\\sigma_i^2}=0$$\n",
    "\n",
    "o bien\n",
    "\n",
    "$$\\sum_{i}\\frac{y_i}{\\sigma_i^2}=\\alpha\\sum_{i}\\frac{1}{\\sigma_i^2}+\\beta\\sum_{i}\\frac{x_i}{\\sigma_i^2}$$\n",
    "\n",
    "$$\\sum_{i}\\frac{y_ix_i}{\\sigma_i^2}=\\alpha\\sum_{i}\\frac{x_i}{\\sigma_i^2}+\\beta\\sum_{i}\\frac{x_i^2}{\\sigma_i^2}$$\n",
    "\n",
    "El sistema a resolver es de la forma\n",
    "$$\\begin{pmatrix}\n",
    "\\sum_{i}\\frac{y_i}{\\sigma_i^2}\\\\\n",
    "\\sum_{i}\\frac{y_ix_i}{\\sigma_i^2}\\\\\n",
    "\\end{pmatrix}\n",
    "\\begin{pmatrix}\n",
    "\\sum_{i}\\frac{1}{\\sigma_i^2} & \\sum_{i}\\frac{x_i}{\\sigma_i^2} \\\\\n",
    "\\sum_{i}\\frac{x_i}{\\sigma_i^2} & \\sum_{i}\\frac{x_i^2}{\\sigma_i^2} \\\\\n",
    "\\end{pmatrix}=\n",
    "\\begin{pmatrix}\n",
    "\\alpha\\\\\n",
    "\\beta\\\\\n",
    "\\end{pmatrix}\n",
    "$$"
   ]
  },
  {
   "cell_type": "markdown",
   "metadata": {},
   "source": [
    "de los datos sabemos que A[0]-> x; A[1]->y, A[2]->error, a->b0, b->b1"
   ]
  },
  {
   "cell_type": "code",
   "execution_count": 6,
   "metadata": {},
   "outputs": [],
   "source": [
    "X=base[0,]\n",
    "Y=base[1,]\n",
    "Sigma=base[2,]\n",
    "Sigma_sqrt=Sigma\n",
    "Sigma_sq=Sigma**2   "
   ]
  },
  {
   "cell_type": "code",
   "execution_count": 7,
   "metadata": {},
   "outputs": [],
   "source": [
    "S=[np.sum(Y/Sigma_sq),np.sum((Y*X)/Sigma_sq)]\n",
    "M=[(np.sum(1/Sigma_sq),np.sum(X/Sigma_sq)),(np.sum(X/Sigma_sq),np.sum((X**2)/Sigma_sq))]\n",
    "M_inv = np.linalg.inv(M)\n",
    "solucion=M_inv @ S\n",
    "y=np.zeros(len(X))"
   ]
  },
  {
   "cell_type": "code",
   "execution_count": 8,
   "metadata": {},
   "outputs": [
    {
     "data": {
      "text/plain": [
       "array([ 5.44055525, -1.1040757 ])"
      ]
     },
     "execution_count": 8,
     "metadata": {},
     "output_type": "execute_result"
    }
   ],
   "source": [
    "#usando los valores de X tenemos\n",
    "for i in range (len(X)):\n",
    "    y[i]=solucion[0]+solucion[1]*X[i]\n",
    "solucion"
   ]
  },
  {
   "cell_type": "code",
   "execution_count": 9,
   "metadata": {},
   "outputs": [
    {
     "data": {
      "image/png": "[encoded data removed]",
      "text/plain": [
       "<Figure size 432x288 with 1 Axes>"
      ]
     },
     "metadata": {
      "needs_background": "light"
     },
     "output_type": "display_data"
    }
   ],
   "source": [
    "plt.plot(base[0],base[1], 'o', color='orange')\n",
    "plt.plot(X,y, color='blue')\n",
    "plt.xlabel('x')\n",
    "plt.ylabel('y')\n",
    "plt.title('Likelihood')\n",
    "plt.legend(('MLM', 'MCMC metropolis', 'datos'), loc='upper right')\n",
    "plt.show()"
   ]
  },
  {
   "cell_type": "code",
   "execution_count": null,
   "metadata": {},
   "outputs": [],
   "source": []
  }
 ],
 "metadata": {
  "kernelspec": {
   "display_name": "Python 3",
   "language": "python",
   "name": "python3"
  },
  "language_info": {
   "codemirror_mode": {
    "name": "ipython",
    "version": 3
   },
   "file_extension": ".py",
   "mimetype": "text/x-python",
   "name": "python",
   "nbconvert_exporter": "python",
   "pygments_lexer": "ipython3",
   "version": "3.7.2"
  }
 },
 "nbformat": 4,
 "nbformat_minor": 2
}
