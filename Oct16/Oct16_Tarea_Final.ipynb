{
 "cells": [
  {
   "cell_type": "markdown",
   "metadata": {},
   "source": [
    "# Tarea 1 MCMC Metropolis"
   ]
  },
  {
   "cell_type": "code",
   "execution_count": 34,
   "metadata": {},
   "outputs": [],
   "source": [
    "import numpy as np\n",
    "import scipy\n",
    "import scipy.stats\n",
    "import matplotlib as mpl   \n",
    "import matplotlib.pyplot as plt\n",
    "\n",
    "import seaborn as sns "
   ]
  },
  {
   "cell_type": "code",
   "execution_count": 2,
   "metadata": {},
   "outputs": [],
   "source": [
    "from scipy.stats import distributions\n",
    "dnorm = distributions.norm.logpdf"
   ]
  },
  {
   "cell_type": "code",
   "execution_count": 3,
   "metadata": {},
   "outputs": [],
   "source": [
    "data=np.load('fit_exercise.npy')\n",
    "yerror=data[2]"
   ]
  },
  {
   "cell_type": "code",
   "execution_count": 4,
   "metadata": {},
   "outputs": [],
   "source": [
    "def calc_posterior(a, b, t, y=data[1], x=data[0]):     #función para encontrar el postirior   \n",
    "    #usando un Prior Gausiano Plano tenemos que Prior=1, entonces, como Ln(1)=0 tendremos que el postirior tiene solo \n",
    "    #la contribución del likelihood\n",
    "    logp=0\n",
    "    mu = a + b*x                          #calculamos el valore del modelo segun los datos (modelo lineal)\n",
    "    logp += sum(dnorm(y, mu, t**-2))      # sumatoria del likelihood \n",
    "    \n",
    "    return logp"
   ]
  },
  {
   "cell_type": "code",
   "execution_count": 5,
   "metadata": {},
   "outputs": [],
   "source": [
    "def metropolis(n_iterations, initial_values, prop_var):\n",
    "\n",
    "    n_params = len(initial_values)    #se usa el tamaño del arreglo de valores iniciales         \n",
    "    prop_sd = [prop_var]*n_params     #se crea un vector de tres entradas donde cada entrada tiene el valor prop_var\n",
    "    evolution = np.empty((n_iterations+1, n_params))  #crea un arreglo con n_params columnas y n_iterations+1 filas \n",
    "                                                      #en esta matriz se guardará la evolución de los parametros a, b y sigma\n",
    "    evolution[0] = initial_values     #Llena la primer fila con los valores iniciales para tomarlos como base de la evolución\n",
    "    current_log_prob = calc_posterior(*evolution[0])  #llamado a la función con entradas como vector que corresponden a los \n",
    "                                                      #valores a, b y sigma\n",
    "    accepted = [0]*n_params           #se crea un vector de n_param entradas donde cada entrada tiene el valor 0\n",
    "    \n",
    "    rnorm = np.random.normal\n",
    "    runif = np.random.rand\n",
    "\n",
    "    for i in range(n_iterations):       #en este primer for se llenaran todas las filas de evolution \n",
    "        current_params = evolution[i]   #paramatros iniciales para los valores que se calcularan \n",
    "        for j in range(n_params):       #en este for se llenan las colunas correspondientes a las i-esimas filas \n",
    "            p = evolution[i].copy()     #Realiza una copia de la fila i-esima para calcular nuevamente el postirior y comparar\n",
    "        \n",
    "            if j==2:\n",
    "                theta = np.exp(rnorm(np.log(current_params[j]), prop_sd[j]))\n",
    "            else:\n",
    "                theta = rnorm(current_params[j], prop_sd[j])\n",
    "                \n",
    "            p[j] = theta                             #se reescribe p con los calculos anteriores\n",
    "            proposed_log_prob = calc_posterior(*p)   #se calcula el postitior con los valores de p propuestos\n",
    "            alpha = proposed_log_prob - current_log_prob #se calcula el ratio de los postiriors y como es una divición\n",
    "                                                         #se pone como una resta por las propiedades de logaritmos\n",
    "            u = runif()             #numero aleatorio con una distribución uniforme entre el 0 y 1\n",
    "            if np.log(u) < alpha:   #si el número es menor que el ratio los parametros son aceptados y seran ahora iniciales\n",
    "                evolution[i+1,j] = theta\n",
    "                current_log_prob = proposed_log_prob\n",
    "                accepted[j] += 1\n",
    "            else:                    #si no cumple se rechaza y se toman los valores anteriores iniciales itera nuevamente\n",
    "                evolution[i+1,j] = evolution[i,j]\n",
    "                \n",
    "    return evolution"
   ]
  },
  {
   "cell_type": "code",
   "execution_count": 6,
   "metadata": {},
   "outputs": [],
   "source": [
    "n_iterations=3000\n",
    "initial_values=[1,1,.5]\n",
    "evolution = metropolis(n_iterations,initial_values,.05)"
   ]
  },
  {
   "cell_type": "code",
   "execution_count": 7,
   "metadata": {},
   "outputs": [
    {
     "data": {
      "text/plain": [
       "array([ 5.09045245, -1.06198814,  0.99691729])"
      ]
     },
     "execution_count": 7,
     "metadata": {},
     "output_type": "execute_result"
    },
    {
     "data": {
      "image/png": "[encoded data removed]",
      "text/plain": [
       "<Figure size 432x288 with 1 Axes>"
      ]
     },
     "metadata": {
      "needs_background": "light"
     },
     "output_type": "display_data"
    }
   ],
   "source": [
    "plt.plot(evolution[:,0],evolution[:,1])\n",
    "evolution[-1]"
   ]
  },
  {
   "cell_type": "code",
   "execution_count": 8,
   "metadata": {},
   "outputs": [],
   "source": [
    "#graficando los datos con la solución obtenida\n",
    "ysol=np.zeros(len(data[0]))\n",
    "for i in range (len(data[0])):\n",
    "    ysol[i]=evolution[-1,0]+evolution[-1,1]*data[0,i]"
   ]
  },
  {
   "cell_type": "markdown",
   "metadata": {},
   "source": [
    "hasta aquí hemos obtenido un valor en el cual el metrodo MCMC metropoli tiene como solución los parametros a, b de la recta. Ahora se compararan con los obtenido con el MLM (maximum likelihood method) y se graficaran las rectas"
   ]
  },
  {
   "cell_type": "markdown",
   "metadata": {},
   "source": [
    "## Comparando con Maximum Likelihood Method"
   ]
  },
  {
   "cell_type": "markdown",
   "metadata": {},
   "source": [
    "Supongamos que se tienen n mediciones ($x_1, y_1\\pm \\sigma_1$; $x_2, y_2\\pm \\sigma_2$; $x_n, y_n\\pm \\sigma_n$) si se conoce la función de distribución entonces se conoce una relación funcional de $y=f(x,\\alpha, \\beta, \\gamma, ...)$ donde $\\alpha, \\beta, \\gamma, ...$ son parametros "
   ]
  },
  {
   "cell_type": "markdown",
   "metadata": {},
   "source": [
    "Likelihood Function es $$L=\\prod_{i=1}^{n} f(x_i,\\alpha, \\beta, ...)$$"
   ]
  },
  {
   "cell_type": "markdown",
   "metadata": {},
   "source": [
    "Usando un likelihood gausiano para una linea recta\n",
    "\n",
    "\n",
    "$$L=\\prod_{i=1}^{n} \\frac{1}{\\sigma_i\\sqrt{2\\pi}}exp({-\\frac{(y_i- \\lambda (x_i , \\theta ))^2}{2\\sigma_i^2}})$$\n",
    "$$L=\\prod_{i=1}^{n} \\frac{1}{\\sigma_i\\sqrt{2\\pi}}exp({-\\frac{(y_i-\\alpha-\\beta x_i)^2}{2\\sigma_i^2}})$$\n",
    "\n",
    "$$ ln ({L}(x_i,y_i|\\vec{\\theta}))= \\sum_{i}ln(\\frac{1}{\\sigma_i\\sqrt{2\\pi}}) -\\frac{(y_i-\\alpha-\\beta x_i)^2 }{2\\sigma_i^2}$$\n",
    "\n",
    "\n",
    "Para maximizar la función obtenemos \n",
    "\n",
    "$$\\frac{\\partial}{\\partial\\alpha}ln(L)=\\sum_{i}\\frac{y_i-\\alpha -\\beta x_1}{\\sigma_i^2}=0$$\n",
    "\n",
    "$$\\frac{\\partial}{\\partial\\beta}ln(L)=\\sum_{i}\\frac{(y_i-\\alpha -\\beta x_1)x_i}{\\sigma_i^2}=0$$\n",
    "\n",
    "o bien\n",
    "\n",
    "$$\\sum_{i}\\frac{y_i}{\\sigma_i^2}=\\alpha\\sum_{i}\\frac{1}{\\sigma_i^2}+\\beta\\sum_{i}\\frac{x_i}{\\sigma_i^2}$$\n",
    "\n",
    "$$\\sum_{i}\\frac{y_ix_i}{\\sigma_i^2}=\\alpha\\sum_{i}\\frac{x_i}{\\sigma_i^2}+\\beta\\sum_{i}\\frac{x_i^2}{\\sigma_i^2}$$\n",
    "\n",
    "El sistema a resolver es de la forma\n",
    "$$\\begin{pmatrix}\n",
    "\\sum_{i}\\frac{y_i}{\\sigma_i^2}\\\\\n",
    "\\sum_{i}\\frac{y_ix_i}{\\sigma_i^2}\\\\\n",
    "\\end{pmatrix}\n",
    "\\begin{pmatrix}\n",
    "\\sum_{i}\\frac{1}{\\sigma_i^2} & \\sum_{i}\\frac{x_i}{\\sigma_i^2} \\\\\n",
    "\\sum_{i}\\frac{x_i}{\\sigma_i^2} & \\sum_{i}\\frac{x_i^2}{\\sigma_i^2} \\\\\n",
    "\\end{pmatrix}=\n",
    "\\begin{pmatrix}\n",
    "\\alpha\\\\\n",
    "\\beta\\\\\n",
    "\\end{pmatrix}\n",
    "$$"
   ]
  },
  {
   "cell_type": "markdown",
   "metadata": {},
   "source": [
    "de los datos sabemos que A[0]-> x; A[1]->y, A[2]->error, a->b0, b->b1"
   ]
  },
  {
   "cell_type": "code",
   "execution_count": 13,
   "metadata": {},
   "outputs": [],
   "source": [
    "X=data[0,]\n",
    "Y=data[1,]\n",
    "Sigma=data[2,]\n",
    "Sigma_sqrt=Sigma\n",
    "Sigma_sq=Sigma**2   "
   ]
  },
  {
   "cell_type": "code",
   "execution_count": 14,
   "metadata": {},
   "outputs": [],
   "source": [
    "S=[np.sum(Y/Sigma_sq),np.sum((Y*X)/Sigma_sq)]\n",
    "M=[(np.sum(1/Sigma_sq),np.sum(X/Sigma_sq)),(np.sum(X/Sigma_sq),np.sum((X**2)/Sigma_sq))]\n",
    "M_inv = np.linalg.inv(M)\n",
    "solucion=M_inv @ S\n",
    "y=np.zeros(len(X))"
   ]
  },
  {
   "cell_type": "code",
   "execution_count": 15,
   "metadata": {},
   "outputs": [
    {
     "data": {
      "text/plain": [
       "array([ 5.44055525, -1.1040757 ])"
      ]
     },
     "execution_count": 15,
     "metadata": {},
     "output_type": "execute_result"
    }
   ],
   "source": [
    "#usando los valores de X tenemos\n",
    "for i in range (len(X)):\n",
    "    y[i]=solucion[0]+solucion[1]*X[i]\n",
    "solucion"
   ]
  },
  {
   "cell_type": "code",
   "execution_count": 28,
   "metadata": {},
   "outputs": [
    {
     "data": {
      "image/png": "[encoded data removed]",
      "text/plain": [
       "<Figure size 432x288 with 1 Axes>"
      ]
     },
     "metadata": {
      "needs_background": "light"
     },
     "output_type": "display_data"
    }
   ],
   "source": [
    "plt.plot(data[0],data[1], 'o', color='orange')\n",
    "plt.plot(X,y, color='blue')\n",
    "plt.plot(data[0],ysol, color='red')\n",
    "plt.xlabel('x')\n",
    "plt.ylabel('y')\n",
    "plt.title('Likelihood')\n",
    "plt.legend(('MLM', 'MCMC metropolis', 'datos'), loc='upper right')\n",
    "plt.show()"
   ]
  },
  {
   "cell_type": "markdown",
   "metadata": {},
   "source": [
    "![](1.jpg)"
   ]
  },
  {
   "cell_type": "code",
   "execution_count": null,
   "metadata": {},
   "outputs": [],
   "source": []
  }
 ],
 "metadata": {
  "kernelspec": {
   "display_name": "Python 3",
   "language": "python",
   "name": "python3"
  },
  "language_info": {
   "codemirror_mode": {
    "name": "ipython",
    "version": 3
   },
   "file_extension": ".py",
   "mimetype": "text/x-python",
   "name": "python",
   "nbconvert_exporter": "python",
   "pygments_lexer": "ipython3",
   "version": "3.7.2"
  }
 },
 "nbformat": 4,
 "nbformat_minor": 2
}
