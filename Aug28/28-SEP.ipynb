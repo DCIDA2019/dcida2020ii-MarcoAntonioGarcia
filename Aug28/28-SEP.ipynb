{
 "cells": [
  {
   "cell_type": "code",
   "execution_count": 12,
   "metadata": {},
   "outputs": [],
   "source": [
    "#aqui se importan las librerías\n",
    "import numpy as np\n",
    "import matplotlib.pyplot as plt"
   ]
  },
  {
   "cell_type": "code",
   "execution_count": 17,
   "metadata": {},
   "outputs": [
    {
     "ename": "IndentationError",
     "evalue": "unexpected indent (<ipython-input-17-88d8f8c7465c>, line 15)",
     "output_type": "error",
     "traceback": [
      "\u001b[0;36m  File \u001b[0;32m\"<ipython-input-17-88d8f8c7465c>\"\u001b[0;36m, line \u001b[0;32m15\u001b[0m\n\u001b[0;31m    h=(tf-t0)/n;\u001b[0m\n\u001b[0m    ^\u001b[0m\n\u001b[0;31mIndentationError\u001b[0m\u001b[0;31m:\u001b[0m unexpected indent\n"
     ]
    }
   ],
   "source": [
    "#este es el primer intento de codigo para solucionar la ecuacion diferencial por medio del metodo de Runge-Kutta\n",
    "#basicamente se está separando la ecuacíon diferencial lineal de segundo orden en dos ecuaciones y de esta resolviendo\n",
    "#un sistema de EDO \n",
    "\n",
    "#aqui se estan declarando los valores de frontera y el intervalo de tiempo \n",
    "t0=0\n",
    "tf=1\n",
    "x0=0\n",
    "v0=0\n",
    "n=10\n",
    "h=0\n",
    "\n",
    "#aqui se hace una función se solución con todo lo que involucra el metodo de euler\n",
    "function [t,x,v] =rk_2(f,t0,tf,x0,v0,n)\n",
    "   h=(tf-t0)/n;\n",
    "   t=t0:h:tf; #reserva memoria para n+1 element(i)os del vect(i)or x(i)\n",
    "   x=np.zeros(((n)),float)\n",
    "   v=np.zeros(((n)),float)\n",
    "   x(1)=x0; v(1)=v0;\n",
    "      \n",
    "   for i in range(0,n):\n",
    "      k1=h*v(i);\n",
    "      l1=h*f(t(i),x(i),v(i));\n",
    "      k2=h*(v(i)+l1/2);\n",
    "      l2=h*f(t(i)+h/2,x(i)+k1/2,v(i)+l1/2); \n",
    "      k3=h*(v(i)+l2/2);\n",
    "      l3=h*f(t(i)+h/2,x(i)+k2/2,v(i)+l2/2);\n",
    "      k4=h*(v(i)+l3);\n",
    "      l4=h*f(t(i)+h,x(i)+k3,v(i)+l3);\n",
    "        \n",
    "      x(i+1)=x(i)+(k1+2*k2+2*k3+k4)/6;\n",
    "      v(i+1)=v(i)+(l1+2*l2+2*l3+l4)/6;        \n",
    "        "
   ]
  },
  {
   "cell_type": "code",
   "execution_count": 13,
   "metadata": {},
   "outputs": [
    {
     "data": {
      "text/plain": [
       "10"
      ]
     },
     "execution_count": 13,
     "metadata": {},
     "output_type": "execute_result"
    }
   ],
   "source": [
    "#aqui graficaremos y se muetran la grafica con leyendas y parametros\n",
    "plt.figure()\n",
    "plt.plot(t,x)\n",
    "plt.hold(True)\n",
    "plt.grid(True)\n",
    "plt.grid(color = '0.5', linestyle = '--', linewidth = 1)"
   ]
  },
  {
   "cell_type": "code",
   "execution_count": null,
   "metadata": {},
   "outputs": [],
   "source": [
    "#no he podido correr por algunos errores los cuales corrigire en la semana"
   ]
  }
 ],
 "metadata": {
  "kernelspec": {
   "display_name": "Python 3",
   "language": "python",
   "name": "python3"
  },
  "language_info": {
   "codemirror_mode": {
    "name": "ipython",
    "version": 3
   },
   "file_extension": ".py",
   "mimetype": "text/x-python",
   "name": "python",
   "nbconvert_exporter": "python",
   "pygments_lexer": "ipython3",
   "version": "3.7.2"
  }
 },
 "nbformat": 4,
 "nbformat_minor": 2
}
